{
 "cells": [
  {
   "cell_type": "markdown",
   "id": "e10bd8cb",
   "metadata": {},
   "source": [
    "# Jack Huff\n",
    "## Programming Assignment 4\n",
    "## CS-150-01"
   ]
  },
  {
   "cell_type": "markdown",
   "id": "14e665c1",
   "metadata": {},
   "source": [
    "i. append(): Adds one item to a list"
   ]
  },
  {
   "cell_type": "code",
   "execution_count": 8,
   "id": "4589ccb3",
   "metadata": {},
   "outputs": [
    {
     "name": "stdout",
     "output_type": "stream",
     "text": [
      "[2, 5, 6, 8, 12]\n"
     ]
    }
   ],
   "source": [
    "numbers = [2, 5, 6, 8]\n",
    "numbers.append(12)\n",
    "print(numbers)"
   ]
  },
  {
   "cell_type": "markdown",
   "id": "d2e1d51b",
   "metadata": {},
   "source": [
    "ii. extend(): Adds list elements to end of another list "
   ]
  },
  {
   "cell_type": "code",
   "execution_count": 9,
   "id": "0d66519f",
   "metadata": {},
   "outputs": [
    {
     "name": "stdout",
     "output_type": "stream",
     "text": [
      "[2, 5, 6, 8, 'a', 'f', 'h']\n"
     ]
    }
   ],
   "source": [
    "numbers = [2, 5, 6, 8]\n",
    "letters = [\"a\", \"f\", \"h\"]\n",
    "numbers.extend(letters)\n",
    "print(numbers)"
   ]
  },
  {
   "cell_type": "markdown",
   "id": "9d8a4b7b",
   "metadata": {},
   "source": [
    "iii. insert(): Adds a list element to a specified position in a list "
   ]
  },
  {
   "cell_type": "code",
   "execution_count": 10,
   "id": "f2ed0c87",
   "metadata": {},
   "outputs": [
    {
     "name": "stdout",
     "output_type": "stream",
     "text": [
      "[2, 15, 5, 6, 8]\n"
     ]
    }
   ],
   "source": [
    "numbers = [2, 5, 6, 8]\n",
    "numbers.insert(1,15)\n",
    "print(numbers)"
   ]
  },
  {
   "cell_type": "markdown",
   "id": "fd0f4327",
   "metadata": {},
   "source": [
    "iv. remove(): Removes a specified item from a list "
   ]
  },
  {
   "cell_type": "code",
   "execution_count": 11,
   "id": "ab8df22f",
   "metadata": {},
   "outputs": [
    {
     "name": "stdout",
     "output_type": "stream",
     "text": [
      "[2, 6, 8]\n"
     ]
    }
   ],
   "source": [
    "numbers = [2, 5, 6, 8]\n",
    "numbers.remove(5)\n",
    "print(numbers)"
   ]
  },
  {
   "cell_type": "markdown",
   "id": "cb02ba17",
   "metadata": {},
   "source": [
    "v. count(): counts how many times an item is in a list "
   ]
  },
  {
   "cell_type": "code",
   "execution_count": 13,
   "id": "a6c7f430",
   "metadata": {},
   "outputs": [
    {
     "data": {
      "text/plain": [
       "1"
      ]
     },
     "execution_count": 13,
     "metadata": {},
     "output_type": "execute_result"
    }
   ],
   "source": [
    "numbers = [2, 5, 6, 8]\n",
    "numbers.count(5)"
   ]
  },
  {
   "cell_type": "markdown",
   "id": "54d4ad88",
   "metadata": {},
   "source": [
    "vi. index(): Tells you the position of a specified value "
   ]
  },
  {
   "cell_type": "code",
   "execution_count": 15,
   "id": "91df2b14",
   "metadata": {},
   "outputs": [
    {
     "name": "stdout",
     "output_type": "stream",
     "text": [
      "2\n"
     ]
    }
   ],
   "source": [
    "numbers = [2, 5, 6, 8]\n",
    "x = numbers.index(6)\n",
    "print(x)"
   ]
  },
  {
   "cell_type": "markdown",
   "id": "db42b3fb",
   "metadata": {},
   "source": [
    "vii. pop(): removes item at specified location"
   ]
  },
  {
   "cell_type": "code",
   "execution_count": 17,
   "id": "9ab26b9a",
   "metadata": {},
   "outputs": [
    {
     "name": "stdout",
     "output_type": "stream",
     "text": [
      "[2, 5, 8]\n"
     ]
    }
   ],
   "source": [
    "numbers = [2, 5, 6, 8]\n",
    "numbers.pop(2)\n",
    "print(numbers)"
   ]
  },
  {
   "cell_type": "markdown",
   "id": "1b781754",
   "metadata": {},
   "source": [
    "viii. sorted(): Sorts the list "
   ]
  },
  {
   "cell_type": "code",
   "execution_count": 19,
   "id": "49f036af",
   "metadata": {},
   "outputs": [
    {
     "name": "stdout",
     "output_type": "stream",
     "text": [
      "[2, 6, 8, 10]\n"
     ]
    }
   ],
   "source": [
    "numbers = [2, 10, 6, 8]\n",
    "numbers.sort()\n",
    "print(numbers)"
   ]
  },
  {
   "cell_type": "markdown",
   "id": "49a0e1b1",
   "metadata": {},
   "source": [
    "ix. copy(): Copies the list "
   ]
  },
  {
   "cell_type": "code",
   "execution_count": 20,
   "id": "2048c958",
   "metadata": {},
   "outputs": [
    {
     "name": "stdout",
     "output_type": "stream",
     "text": [
      "[2, 10, 6, 8]\n"
     ]
    }
   ],
   "source": [
    "numbers = [2, 10, 6, 8]\n",
    "x=numbers.copy()\n",
    "print(x)"
   ]
  },
  {
   "cell_type": "markdown",
   "id": "3af8c5c0",
   "metadata": {},
   "source": [
    "x. clear(): Removes all items from the list"
   ]
  },
  {
   "cell_type": "code",
   "execution_count": 21,
   "id": "60dff662",
   "metadata": {},
   "outputs": [
    {
     "name": "stdout",
     "output_type": "stream",
     "text": [
      "[]\n"
     ]
    }
   ],
   "source": [
    "colors= [\"red\", \"blue\", \"Yellow\"]\n",
    "colors.clear()\n",
    "print(colors)"
   ]
  },
  {
   "cell_type": "markdown",
   "id": "22c5b8ab",
   "metadata": {},
   "source": [
    "xi. any(): checks to see if items in a list are true"
   ]
  },
  {
   "cell_type": "code",
   "execution_count": 24,
   "id": "68bb0cb4",
   "metadata": {},
   "outputs": [
    {
     "data": {
      "text/plain": [
       "True"
      ]
     },
     "execution_count": 24,
     "metadata": {},
     "output_type": "execute_result"
    }
   ],
   "source": [
    "numbers = [2, 10, 6, 8]\n",
    "any(numbers)"
   ]
  },
  {
   "cell_type": "markdown",
   "id": "3fb21c3a",
   "metadata": {},
   "source": [
    "xii. filter(): extracts items from a list if they are true"
   ]
  },
  {
   "cell_type": "code",
   "execution_count": 36,
   "id": "376646ef",
   "metadata": {},
   "outputs": [
    {
     "name": "stdout",
     "output_type": "stream",
     "text": [
      "[2, 10, 6, 12, 8]\n"
     ]
    }
   ],
   "source": [
    "numbers = [2, 10, 6, 7, 19, 53, 5, 12, 8]\n",
    "def check_even(number):\n",
    "    if number % 2 == 0:\n",
    "          return True  \n",
    "\n",
    "    return False\n",
    "even_numbers = filter(check_even, numbers)\n",
    "even_numbers = list(even_numbers)\n",
    "print(even_numbers)"
   ]
  },
  {
   "cell_type": "markdown",
   "id": "282473fc",
   "metadata": {},
   "source": [
    "xiii. list(): Creates a new list  "
   ]
  },
  {
   "cell_type": "code",
   "execution_count": 33,
   "id": "9388ba88",
   "metadata": {},
   "outputs": [
    {
     "name": "stdout",
     "output_type": "stream",
     "text": [
      "[]\n",
      "['a', 'h', 'e', 'k', 'l', 'v', 'm']\n"
     ]
    }
   ],
   "source": [
    "print(list())\n",
    "favorite_letters=('aheklvm')\n",
    "print(list(favorite_letters))"
   ]
  },
  {
   "cell_type": "markdown",
   "id": "fb53c4c8",
   "metadata": {},
   "source": [
    "xiv. map(): applies a specific function to all items in a list "
   ]
  },
  {
   "cell_type": "code",
   "execution_count": 35,
   "id": "8ae22499",
   "metadata": {},
   "outputs": [
    {
     "name": "stdout",
     "output_type": "stream",
     "text": [
      "[4, 100, 36, 64]\n"
     ]
    }
   ],
   "source": [
    "numbers = [2, 10, 6, 8]\n",
    "def square(number):\n",
    "  return number * number\n",
    "squared_numbers = map(square, numbers)\n",
    "squared_numbers = list(squared_numbers)\n",
    "print(squared_numbers)"
   ]
  },
  {
   "cell_type": "markdown",
   "id": "14bf409b",
   "metadata": {},
   "source": [
    "i. cmp():Compares 2 integers, but does not work in this version of python "
   ]
  },
  {
   "cell_type": "markdown",
   "id": "c9c70a79",
   "metadata": {},
   "source": [
    "ii. len(): returns the number of items in a list "
   ]
  },
  {
   "cell_type": "code",
   "execution_count": 40,
   "id": "772404c0",
   "metadata": {},
   "outputs": [
    {
     "name": "stdout",
     "output_type": "stream",
     "text": [
      "7\n"
     ]
    }
   ],
   "source": [
    "numbers= [2,3,4,6,4,3,7]\n",
    "x=len(numbers)\n",
    "print(x)"
   ]
  },
  {
   "cell_type": "markdown",
   "id": "ba6c8739",
   "metadata": {},
   "source": [
    "iii. max(): Finds the largest value in a list "
   ]
  },
  {
   "cell_type": "code",
   "execution_count": 41,
   "id": "1659bc80",
   "metadata": {},
   "outputs": [
    {
     "name": "stdout",
     "output_type": "stream",
     "text": [
      "8\n"
     ]
    }
   ],
   "source": [
    "numbers=[1,5,7,4,3,8]\n",
    "x=max(numbers)\n",
    "print(x)"
   ]
  },
  {
   "cell_type": "markdown",
   "id": "da467e8d",
   "metadata": {},
   "source": [
    "iv. tuple(seq): Converts a list into a tuple"
   ]
  },
  {
   "cell_type": "code",
   "execution_count": 42,
   "id": "a3c6879d",
   "metadata": {},
   "outputs": [
    {
     "name": "stdout",
     "output_type": "stream",
     "text": [
      "tuple elements :  (2, 3, 4, 8, 64, 45)\n"
     ]
    }
   ],
   "source": [
    "numbers=[2,3,4,8,64,45]\n",
    "tuple_numbers=tuple(numbers)\n",
    "print (\"tuple elements : \", tuple_numbers)"
   ]
  },
  {
   "cell_type": "code",
   "execution_count": null,
   "id": "ff4282a5",
   "metadata": {},
   "outputs": [],
   "source": []
  }
 ],
 "metadata": {
  "kernelspec": {
   "display_name": "Python 3",
   "language": "python",
   "name": "python3"
  },
  "language_info": {
   "codemirror_mode": {
    "name": "ipython",
    "version": 3
   },
   "file_extension": ".py",
   "mimetype": "text/x-python",
   "name": "python",
   "nbconvert_exporter": "python",
   "pygments_lexer": "ipython3",
   "version": "3.8.8"
  }
 },
 "nbformat": 4,
 "nbformat_minor": 5
}
